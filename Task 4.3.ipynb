{
 "cells": [
  {
   "cell_type": "markdown",
   "metadata": {},
   "source": [
    "## Task 4.3 Frequency calculation\n",
    "\n",
    "Calculate the frequencies of the 12 semitones that are part of one octave starting at C3 (130.81 Hz) using the equation given in the lecture\n",
    "\n",
    "    f_semitone = f_reference * 2^(v + k/12) with f_reference = 440Hz\n",
    "\n",
    "To verify whether your calculation is correct see http://newt.phys.unsw.edu.au/jw/notes.html."
   ]
  },
  {
   "cell_type": "code",
   "execution_count": 4,
   "metadata": {
    "scrolled": true
   },
   "outputs": [
    {
     "name": "stdout",
     "output_type": "stream",
     "text": [
      "138.59\n",
      "146.83\n",
      "155.56\n",
      "164.81\n",
      "174.61\n",
      "184.99\n",
      "195.99\n",
      "207.65\n",
      "220.0\n",
      "233.08\n",
      "246.94\n",
      "261.62\n"
     ]
    }
   ],
   "source": [
    "reference = 130.81\n",
    "semitones = [reference * (2 ** (k / 12)) for k in range(1, 13)]\n",
    "for semitone in semitones:\n",
    "    print(round(semitone, 2))"
   ]
  },
  {
   "cell_type": "markdown",
   "metadata": {},
   "source": [
    "---\n",
    "\n",
    "Briefly explain what is mant by this equation:\n",
    "\n",
    "    f_semitone = f_reference * 2^((v-4) + k/12) with f_reference = 440Hz"
   ]
  },
  {
   "cell_type": "markdown",
   "metadata": {},
   "source": [
    "_f_semitone_ is the frequency of the _k_-th semitone, _f_reference_ the frequency of the first tone and I don't know what _(v-4)_ is supposed to be"
   ]
  }
 ],
 "metadata": {
  "kernelspec": {
   "display_name": "Python 3",
   "language": "python",
   "name": "python3"
  },
  "language_info": {
   "codemirror_mode": {
    "name": "ipython",
    "version": 3
   },
   "file_extension": ".py",
   "mimetype": "text/x-python",
   "name": "python",
   "nbconvert_exporter": "python",
   "pygments_lexer": "ipython3",
   "version": "3.7.1"
  }
 },
 "nbformat": 4,
 "nbformat_minor": 2
}
